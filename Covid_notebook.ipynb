{
  "nbformat": 4,
  "nbformat_minor": 0,
  "metadata": {
    "colab": {
      "name": "Covid.ipynb",
      "provenance": []
    },
    "kernelspec": {
      "display_name": "Python 3",
      "name": "python3"
    }
  },
  "cells": [
    {
      "cell_type": "code",
      "metadata": {
        "id": "i5s8AC0LtEEj"
      },
      "source": [
        "import matplotlib.pyplot as plt\n",
        "import numpy as np"
      ],
      "execution_count": 1,
      "outputs": []
    },
    {
      "cell_type": "code",
      "metadata": {
        "colab": {
          "base_uri": "https://localhost:8080/"
        },
        "id": "cVaK2As5l_nv",
        "outputId": "b1c3f8a4-7126-4947-d45d-d73a008a90c7"
      },
      "source": [
        "import os\n",
        "\n",
        "try:\n",
        "    os.mkdir('/content/data')\n",
        "except OSError:\n",
        "    print (\"Creation of the directory failed\")\n",
        "else:\n",
        "    print (\"Successfully created the directory\")\n",
        "os.chdir('/content/data')\n",
        "print(os.getcwd())"
      ],
      "execution_count": 2,
      "outputs": [
        {
          "output_type": "stream",
          "name": "stdout",
          "text": [
            "Successfully created the directory\n",
            "/content/data\n"
          ]
        }
      ]
    },
    {
      "cell_type": "code",
      "metadata": {
        "colab": {
          "base_uri": "https://localhost:8080/"
        },
        "id": "Ac1LBXPinKHc",
        "outputId": "ec936211-9a26-4131-92ee-438054cf8a1f"
      },
      "source": [
        "import requests\n",
        "\n",
        "url = 'https://www.datos.gov.co/api/views/gt2j-8ykr/rows.csv?accessType=DOWNLOAD'\n",
        "r = requests.get(url, allow_redirects=True)\n",
        "open('Casos_positivos_de_COVID-19_en_Colombia.csv', 'wb').write(r.content)"
      ],
      "execution_count": 3,
      "outputs": [
        {
          "output_type": "execute_result",
          "data": {
            "text/plain": [
              "866909391"
            ]
          },
          "metadata": {},
          "execution_count": 3
        }
      ]
    },
    {
      "cell_type": "code",
      "metadata": {
        "colab": {
          "base_uri": "https://localhost:8080/",
          "height": 711
        },
        "id": "0SfrWW4mn39T",
        "outputId": "3697734f-d319-4ba4-9dea-a5e5d91d2d46"
      },
      "source": [
        "import pandas as pd\n",
        "\n",
        "data = pd.read_csv('Casos_positivos_de_COVID-19_en_Colombia.csv', sep=',')\n",
        "data"
      ],
      "execution_count": 4,
      "outputs": [
        {
          "output_type": "stream",
          "name": "stderr",
          "text": [
            "/usr/local/lib/python3.7/dist-packages/IPython/core/interactiveshell.py:2718: DtypeWarning: Columns (14) have mixed types.Specify dtype option on import or set low_memory=False.\n",
            "  interactivity=interactivity, compiler=compiler, result=result)\n"
          ]
        },
        {
          "output_type": "execute_result",
          "data": {
            "text/html": [
              "<div>\n",
              "<style scoped>\n",
              "    .dataframe tbody tr th:only-of-type {\n",
              "        vertical-align: middle;\n",
              "    }\n",
              "\n",
              "    .dataframe tbody tr th {\n",
              "        vertical-align: top;\n",
              "    }\n",
              "\n",
              "    .dataframe thead th {\n",
              "        text-align: right;\n",
              "    }\n",
              "</style>\n",
              "<table border=\"1\" class=\"dataframe\">\n",
              "  <thead>\n",
              "    <tr style=\"text-align: right;\">\n",
              "      <th></th>\n",
              "      <th>fecha reporte web</th>\n",
              "      <th>ID de caso</th>\n",
              "      <th>Fecha de notificación</th>\n",
              "      <th>Código DIVIPOLA departamento</th>\n",
              "      <th>Nombre departamento</th>\n",
              "      <th>Código DIVIPOLA municipio</th>\n",
              "      <th>Nombre municipio</th>\n",
              "      <th>Edad</th>\n",
              "      <th>Unidad de medida de edad</th>\n",
              "      <th>Sexo</th>\n",
              "      <th>Tipo de contagio</th>\n",
              "      <th>Ubicación del caso</th>\n",
              "      <th>Estado</th>\n",
              "      <th>Código ISO del país</th>\n",
              "      <th>Nombre del país</th>\n",
              "      <th>Recuperado</th>\n",
              "      <th>Fecha de inicio de síntomas</th>\n",
              "      <th>Fecha de muerte</th>\n",
              "      <th>Fecha de diagnóstico</th>\n",
              "      <th>Fecha de recuperación</th>\n",
              "      <th>Tipo de recuperación</th>\n",
              "      <th>Pertenencia étnica</th>\n",
              "      <th>Nombre del grupo étnico</th>\n",
              "    </tr>\n",
              "  </thead>\n",
              "  <tbody>\n",
              "    <tr>\n",
              "      <th>0</th>\n",
              "      <td>6/3/2020 0:00:00</td>\n",
              "      <td>1</td>\n",
              "      <td>2/3/2020 0:00:00</td>\n",
              "      <td>11</td>\n",
              "      <td>BOGOTA</td>\n",
              "      <td>11001</td>\n",
              "      <td>BOGOTA</td>\n",
              "      <td>19</td>\n",
              "      <td>1</td>\n",
              "      <td>F</td>\n",
              "      <td>Importado</td>\n",
              "      <td>Casa</td>\n",
              "      <td>Leve</td>\n",
              "      <td>380.0</td>\n",
              "      <td>ITALIA</td>\n",
              "      <td>Recuperado</td>\n",
              "      <td>27/2/2020 0:00:00</td>\n",
              "      <td>NaN</td>\n",
              "      <td>6/3/2020 0:00:00</td>\n",
              "      <td>13/3/2020 0:00:00</td>\n",
              "      <td>PCR</td>\n",
              "      <td>6.0</td>\n",
              "      <td>NaN</td>\n",
              "    </tr>\n",
              "    <tr>\n",
              "      <th>1</th>\n",
              "      <td>9/3/2020 0:00:00</td>\n",
              "      <td>2</td>\n",
              "      <td>6/3/2020 0:00:00</td>\n",
              "      <td>76</td>\n",
              "      <td>VALLE</td>\n",
              "      <td>76111</td>\n",
              "      <td>BUGA</td>\n",
              "      <td>34</td>\n",
              "      <td>1</td>\n",
              "      <td>M</td>\n",
              "      <td>Importado</td>\n",
              "      <td>Casa</td>\n",
              "      <td>Leve</td>\n",
              "      <td>724.0</td>\n",
              "      <td>ESPAÑA</td>\n",
              "      <td>Recuperado</td>\n",
              "      <td>4/3/2020 0:00:00</td>\n",
              "      <td>NaN</td>\n",
              "      <td>9/3/2020 0:00:00</td>\n",
              "      <td>19/3/2020 0:00:00</td>\n",
              "      <td>PCR</td>\n",
              "      <td>5.0</td>\n",
              "      <td>NaN</td>\n",
              "    </tr>\n",
              "    <tr>\n",
              "      <th>2</th>\n",
              "      <td>9/3/2020 0:00:00</td>\n",
              "      <td>3</td>\n",
              "      <td>7/3/2020 0:00:00</td>\n",
              "      <td>5</td>\n",
              "      <td>ANTIOQUIA</td>\n",
              "      <td>5001</td>\n",
              "      <td>MEDELLIN</td>\n",
              "      <td>50</td>\n",
              "      <td>1</td>\n",
              "      <td>F</td>\n",
              "      <td>Importado</td>\n",
              "      <td>Casa</td>\n",
              "      <td>Leve</td>\n",
              "      <td>724.0</td>\n",
              "      <td>ESPAÑA</td>\n",
              "      <td>Recuperado</td>\n",
              "      <td>29/2/2020 0:00:00</td>\n",
              "      <td>NaN</td>\n",
              "      <td>9/3/2020 0:00:00</td>\n",
              "      <td>15/3/2020 0:00:00</td>\n",
              "      <td>PCR</td>\n",
              "      <td>6.0</td>\n",
              "      <td>NaN</td>\n",
              "    </tr>\n",
              "    <tr>\n",
              "      <th>3</th>\n",
              "      <td>11/3/2020 0:00:00</td>\n",
              "      <td>4</td>\n",
              "      <td>9/3/2020 0:00:00</td>\n",
              "      <td>5</td>\n",
              "      <td>ANTIOQUIA</td>\n",
              "      <td>5001</td>\n",
              "      <td>MEDELLIN</td>\n",
              "      <td>55</td>\n",
              "      <td>1</td>\n",
              "      <td>M</td>\n",
              "      <td>Relacionado</td>\n",
              "      <td>Casa</td>\n",
              "      <td>Leve</td>\n",
              "      <td>NaN</td>\n",
              "      <td>NaN</td>\n",
              "      <td>Recuperado</td>\n",
              "      <td>6/3/2020 0:00:00</td>\n",
              "      <td>NaN</td>\n",
              "      <td>11/3/2020 0:00:00</td>\n",
              "      <td>26/3/2020 0:00:00</td>\n",
              "      <td>PCR</td>\n",
              "      <td>6.0</td>\n",
              "      <td>NaN</td>\n",
              "    </tr>\n",
              "    <tr>\n",
              "      <th>4</th>\n",
              "      <td>11/3/2020 0:00:00</td>\n",
              "      <td>5</td>\n",
              "      <td>9/3/2020 0:00:00</td>\n",
              "      <td>5</td>\n",
              "      <td>ANTIOQUIA</td>\n",
              "      <td>5001</td>\n",
              "      <td>MEDELLIN</td>\n",
              "      <td>25</td>\n",
              "      <td>1</td>\n",
              "      <td>M</td>\n",
              "      <td>Relacionado</td>\n",
              "      <td>Casa</td>\n",
              "      <td>Leve</td>\n",
              "      <td>NaN</td>\n",
              "      <td>NaN</td>\n",
              "      <td>Recuperado</td>\n",
              "      <td>8/3/2020 0:00:00</td>\n",
              "      <td>NaN</td>\n",
              "      <td>11/3/2020 0:00:00</td>\n",
              "      <td>23/3/2020 0:00:00</td>\n",
              "      <td>PCR</td>\n",
              "      <td>6.0</td>\n",
              "      <td>NaN</td>\n",
              "    </tr>\n",
              "    <tr>\n",
              "      <th>...</th>\n",
              "      <td>...</td>\n",
              "      <td>...</td>\n",
              "      <td>...</td>\n",
              "      <td>...</td>\n",
              "      <td>...</td>\n",
              "      <td>...</td>\n",
              "      <td>...</td>\n",
              "      <td>...</td>\n",
              "      <td>...</td>\n",
              "      <td>...</td>\n",
              "      <td>...</td>\n",
              "      <td>...</td>\n",
              "      <td>...</td>\n",
              "      <td>...</td>\n",
              "      <td>...</td>\n",
              "      <td>...</td>\n",
              "      <td>...</td>\n",
              "      <td>...</td>\n",
              "      <td>...</td>\n",
              "      <td>...</td>\n",
              "      <td>...</td>\n",
              "      <td>...</td>\n",
              "      <td>...</td>\n",
              "    </tr>\n",
              "    <tr>\n",
              "      <th>4992581</th>\n",
              "      <td>25/10/2021 0:00:00</td>\n",
              "      <td>4992622</td>\n",
              "      <td>6/9/2021 0:00:00</td>\n",
              "      <td>70</td>\n",
              "      <td>SUCRE</td>\n",
              "      <td>70215</td>\n",
              "      <td>COROZAL</td>\n",
              "      <td>62</td>\n",
              "      <td>1</td>\n",
              "      <td>M</td>\n",
              "      <td>En estudio</td>\n",
              "      <td>Casa</td>\n",
              "      <td>Leve</td>\n",
              "      <td>NaN</td>\n",
              "      <td>NaN</td>\n",
              "      <td>Activo</td>\n",
              "      <td>2/9/2021 0:00:00</td>\n",
              "      <td>NaN</td>\n",
              "      <td>17/9/2021 0:00:00</td>\n",
              "      <td>NaN</td>\n",
              "      <td>NaN</td>\n",
              "      <td>NaN</td>\n",
              "      <td>NaN</td>\n",
              "    </tr>\n",
              "    <tr>\n",
              "      <th>4992582</th>\n",
              "      <td>25/10/2021 0:00:00</td>\n",
              "      <td>4992623</td>\n",
              "      <td>13/8/2021 0:00:00</td>\n",
              "      <td>19</td>\n",
              "      <td>CAUCA</td>\n",
              "      <td>19693</td>\n",
              "      <td>SAN SEBASTIAN</td>\n",
              "      <td>46</td>\n",
              "      <td>1</td>\n",
              "      <td>F</td>\n",
              "      <td>En estudio</td>\n",
              "      <td>Casa</td>\n",
              "      <td>Leve</td>\n",
              "      <td>NaN</td>\n",
              "      <td>NaN</td>\n",
              "      <td>Activo</td>\n",
              "      <td>9/8/2021 0:00:00</td>\n",
              "      <td>NaN</td>\n",
              "      <td>24/8/2021 0:00:00</td>\n",
              "      <td>NaN</td>\n",
              "      <td>NaN</td>\n",
              "      <td>NaN</td>\n",
              "      <td>NaN</td>\n",
              "    </tr>\n",
              "    <tr>\n",
              "      <th>4992583</th>\n",
              "      <td>25/10/2021 0:00:00</td>\n",
              "      <td>4992624</td>\n",
              "      <td>5/7/2021 0:00:00</td>\n",
              "      <td>70</td>\n",
              "      <td>SUCRE</td>\n",
              "      <td>70215</td>\n",
              "      <td>COROZAL</td>\n",
              "      <td>2</td>\n",
              "      <td>1</td>\n",
              "      <td>M</td>\n",
              "      <td>En estudio</td>\n",
              "      <td>Casa</td>\n",
              "      <td>Leve</td>\n",
              "      <td>NaN</td>\n",
              "      <td>NaN</td>\n",
              "      <td>Activo</td>\n",
              "      <td>1/7/2021 0:00:00</td>\n",
              "      <td>NaN</td>\n",
              "      <td>16/7/2021 0:00:00</td>\n",
              "      <td>NaN</td>\n",
              "      <td>NaN</td>\n",
              "      <td>NaN</td>\n",
              "      <td>NaN</td>\n",
              "    </tr>\n",
              "    <tr>\n",
              "      <th>4992584</th>\n",
              "      <td>25/10/2021 0:00:00</td>\n",
              "      <td>4992625</td>\n",
              "      <td>31/5/2021 0:00:00</td>\n",
              "      <td>23</td>\n",
              "      <td>CORDOBA</td>\n",
              "      <td>23555</td>\n",
              "      <td>PLANETA RICA</td>\n",
              "      <td>44</td>\n",
              "      <td>1</td>\n",
              "      <td>M</td>\n",
              "      <td>En estudio</td>\n",
              "      <td>Casa</td>\n",
              "      <td>Leve</td>\n",
              "      <td>NaN</td>\n",
              "      <td>NaN</td>\n",
              "      <td>Activo</td>\n",
              "      <td>27/5/2021 0:00:00</td>\n",
              "      <td>NaN</td>\n",
              "      <td>11/6/2021 0:00:00</td>\n",
              "      <td>NaN</td>\n",
              "      <td>NaN</td>\n",
              "      <td>NaN</td>\n",
              "      <td>NaN</td>\n",
              "    </tr>\n",
              "    <tr>\n",
              "      <th>4992585</th>\n",
              "      <td>25/10/2021 0:00:00</td>\n",
              "      <td>4992626</td>\n",
              "      <td>31/5/2021 0:00:00</td>\n",
              "      <td>23</td>\n",
              "      <td>CORDOBA</td>\n",
              "      <td>23555</td>\n",
              "      <td>PLANETA RICA</td>\n",
              "      <td>50</td>\n",
              "      <td>1</td>\n",
              "      <td>M</td>\n",
              "      <td>En estudio</td>\n",
              "      <td>Casa</td>\n",
              "      <td>Leve</td>\n",
              "      <td>NaN</td>\n",
              "      <td>NaN</td>\n",
              "      <td>Activo</td>\n",
              "      <td>27/5/2021 0:00:00</td>\n",
              "      <td>NaN</td>\n",
              "      <td>11/6/2021 0:00:00</td>\n",
              "      <td>NaN</td>\n",
              "      <td>NaN</td>\n",
              "      <td>NaN</td>\n",
              "      <td>NaN</td>\n",
              "    </tr>\n",
              "  </tbody>\n",
              "</table>\n",
              "<p>4992586 rows × 23 columns</p>\n",
              "</div>"
            ],
            "text/plain": [
              "          fecha reporte web  ...  Nombre del grupo étnico\n",
              "0          6/3/2020 0:00:00  ...                      NaN\n",
              "1          9/3/2020 0:00:00  ...                      NaN\n",
              "2          9/3/2020 0:00:00  ...                      NaN\n",
              "3         11/3/2020 0:00:00  ...                      NaN\n",
              "4         11/3/2020 0:00:00  ...                      NaN\n",
              "...                     ...  ...                      ...\n",
              "4992581  25/10/2021 0:00:00  ...                      NaN\n",
              "4992582  25/10/2021 0:00:00  ...                      NaN\n",
              "4992583  25/10/2021 0:00:00  ...                      NaN\n",
              "4992584  25/10/2021 0:00:00  ...                      NaN\n",
              "4992585  25/10/2021 0:00:00  ...                      NaN\n",
              "\n",
              "[4992586 rows x 23 columns]"
            ]
          },
          "metadata": {},
          "execution_count": 4
        }
      ]
    },
    {
      "cell_type": "code",
      "metadata": {
        "id": "Hbd19WBmqHBC",
        "colab": {
          "base_uri": "https://localhost:8080/",
          "height": 677
        },
        "outputId": "7bc2973a-f61f-4247-ed00-be48ba014b46"
      },
      "source": [
        "data['Código ISO del país'] = data['Código ISO del país'].fillna(169)\n",
        "data['Pertenencia étnica'] = data['Pertenencia étnica'].fillna(0)\n",
        "data['Nombre del país'] = data['Nombre del país'].fillna('Colombia')\n",
        "data['Fecha de recuperación'] = data['Fecha de recuperación'].fillna('No recuperado')\n",
        "data['Tipo de recuperación'] = data['Tipo de recuperación'].fillna('No recuperado')\n",
        "data['Fecha de inicio de síntomas'] = data['Fecha de inicio de síntomas'].fillna('No hay registro')\n",
        "data['Fecha de muerte'] = data['Fecha de muerte'].fillna('No ha muerto')\n",
        "data = data.drop(columns='Nombre del grupo étnico')\n",
        "\n",
        "data"
      ],
      "execution_count": 5,
      "outputs": [
        {
          "output_type": "execute_result",
          "data": {
            "text/html": [
              "<div>\n",
              "<style scoped>\n",
              "    .dataframe tbody tr th:only-of-type {\n",
              "        vertical-align: middle;\n",
              "    }\n",
              "\n",
              "    .dataframe tbody tr th {\n",
              "        vertical-align: top;\n",
              "    }\n",
              "\n",
              "    .dataframe thead th {\n",
              "        text-align: right;\n",
              "    }\n",
              "</style>\n",
              "<table border=\"1\" class=\"dataframe\">\n",
              "  <thead>\n",
              "    <tr style=\"text-align: right;\">\n",
              "      <th></th>\n",
              "      <th>fecha reporte web</th>\n",
              "      <th>ID de caso</th>\n",
              "      <th>Fecha de notificación</th>\n",
              "      <th>Código DIVIPOLA departamento</th>\n",
              "      <th>Nombre departamento</th>\n",
              "      <th>Código DIVIPOLA municipio</th>\n",
              "      <th>Nombre municipio</th>\n",
              "      <th>Edad</th>\n",
              "      <th>Unidad de medida de edad</th>\n",
              "      <th>Sexo</th>\n",
              "      <th>Tipo de contagio</th>\n",
              "      <th>Ubicación del caso</th>\n",
              "      <th>Estado</th>\n",
              "      <th>Código ISO del país</th>\n",
              "      <th>Nombre del país</th>\n",
              "      <th>Recuperado</th>\n",
              "      <th>Fecha de inicio de síntomas</th>\n",
              "      <th>Fecha de muerte</th>\n",
              "      <th>Fecha de diagnóstico</th>\n",
              "      <th>Fecha de recuperación</th>\n",
              "      <th>Tipo de recuperación</th>\n",
              "      <th>Pertenencia étnica</th>\n",
              "    </tr>\n",
              "  </thead>\n",
              "  <tbody>\n",
              "    <tr>\n",
              "      <th>0</th>\n",
              "      <td>6/3/2020 0:00:00</td>\n",
              "      <td>1</td>\n",
              "      <td>2/3/2020 0:00:00</td>\n",
              "      <td>11</td>\n",
              "      <td>BOGOTA</td>\n",
              "      <td>11001</td>\n",
              "      <td>BOGOTA</td>\n",
              "      <td>19</td>\n",
              "      <td>1</td>\n",
              "      <td>F</td>\n",
              "      <td>Importado</td>\n",
              "      <td>Casa</td>\n",
              "      <td>Leve</td>\n",
              "      <td>380.0</td>\n",
              "      <td>ITALIA</td>\n",
              "      <td>Recuperado</td>\n",
              "      <td>27/2/2020 0:00:00</td>\n",
              "      <td>No ha muerto</td>\n",
              "      <td>6/3/2020 0:00:00</td>\n",
              "      <td>13/3/2020 0:00:00</td>\n",
              "      <td>PCR</td>\n",
              "      <td>6.0</td>\n",
              "    </tr>\n",
              "    <tr>\n",
              "      <th>1</th>\n",
              "      <td>9/3/2020 0:00:00</td>\n",
              "      <td>2</td>\n",
              "      <td>6/3/2020 0:00:00</td>\n",
              "      <td>76</td>\n",
              "      <td>VALLE</td>\n",
              "      <td>76111</td>\n",
              "      <td>BUGA</td>\n",
              "      <td>34</td>\n",
              "      <td>1</td>\n",
              "      <td>M</td>\n",
              "      <td>Importado</td>\n",
              "      <td>Casa</td>\n",
              "      <td>Leve</td>\n",
              "      <td>724.0</td>\n",
              "      <td>ESPAÑA</td>\n",
              "      <td>Recuperado</td>\n",
              "      <td>4/3/2020 0:00:00</td>\n",
              "      <td>No ha muerto</td>\n",
              "      <td>9/3/2020 0:00:00</td>\n",
              "      <td>19/3/2020 0:00:00</td>\n",
              "      <td>PCR</td>\n",
              "      <td>5.0</td>\n",
              "    </tr>\n",
              "    <tr>\n",
              "      <th>2</th>\n",
              "      <td>9/3/2020 0:00:00</td>\n",
              "      <td>3</td>\n",
              "      <td>7/3/2020 0:00:00</td>\n",
              "      <td>5</td>\n",
              "      <td>ANTIOQUIA</td>\n",
              "      <td>5001</td>\n",
              "      <td>MEDELLIN</td>\n",
              "      <td>50</td>\n",
              "      <td>1</td>\n",
              "      <td>F</td>\n",
              "      <td>Importado</td>\n",
              "      <td>Casa</td>\n",
              "      <td>Leve</td>\n",
              "      <td>724.0</td>\n",
              "      <td>ESPAÑA</td>\n",
              "      <td>Recuperado</td>\n",
              "      <td>29/2/2020 0:00:00</td>\n",
              "      <td>No ha muerto</td>\n",
              "      <td>9/3/2020 0:00:00</td>\n",
              "      <td>15/3/2020 0:00:00</td>\n",
              "      <td>PCR</td>\n",
              "      <td>6.0</td>\n",
              "    </tr>\n",
              "    <tr>\n",
              "      <th>3</th>\n",
              "      <td>11/3/2020 0:00:00</td>\n",
              "      <td>4</td>\n",
              "      <td>9/3/2020 0:00:00</td>\n",
              "      <td>5</td>\n",
              "      <td>ANTIOQUIA</td>\n",
              "      <td>5001</td>\n",
              "      <td>MEDELLIN</td>\n",
              "      <td>55</td>\n",
              "      <td>1</td>\n",
              "      <td>M</td>\n",
              "      <td>Relacionado</td>\n",
              "      <td>Casa</td>\n",
              "      <td>Leve</td>\n",
              "      <td>169.0</td>\n",
              "      <td>Colombia</td>\n",
              "      <td>Recuperado</td>\n",
              "      <td>6/3/2020 0:00:00</td>\n",
              "      <td>No ha muerto</td>\n",
              "      <td>11/3/2020 0:00:00</td>\n",
              "      <td>26/3/2020 0:00:00</td>\n",
              "      <td>PCR</td>\n",
              "      <td>6.0</td>\n",
              "    </tr>\n",
              "    <tr>\n",
              "      <th>4</th>\n",
              "      <td>11/3/2020 0:00:00</td>\n",
              "      <td>5</td>\n",
              "      <td>9/3/2020 0:00:00</td>\n",
              "      <td>5</td>\n",
              "      <td>ANTIOQUIA</td>\n",
              "      <td>5001</td>\n",
              "      <td>MEDELLIN</td>\n",
              "      <td>25</td>\n",
              "      <td>1</td>\n",
              "      <td>M</td>\n",
              "      <td>Relacionado</td>\n",
              "      <td>Casa</td>\n",
              "      <td>Leve</td>\n",
              "      <td>169.0</td>\n",
              "      <td>Colombia</td>\n",
              "      <td>Recuperado</td>\n",
              "      <td>8/3/2020 0:00:00</td>\n",
              "      <td>No ha muerto</td>\n",
              "      <td>11/3/2020 0:00:00</td>\n",
              "      <td>23/3/2020 0:00:00</td>\n",
              "      <td>PCR</td>\n",
              "      <td>6.0</td>\n",
              "    </tr>\n",
              "    <tr>\n",
              "      <th>...</th>\n",
              "      <td>...</td>\n",
              "      <td>...</td>\n",
              "      <td>...</td>\n",
              "      <td>...</td>\n",
              "      <td>...</td>\n",
              "      <td>...</td>\n",
              "      <td>...</td>\n",
              "      <td>...</td>\n",
              "      <td>...</td>\n",
              "      <td>...</td>\n",
              "      <td>...</td>\n",
              "      <td>...</td>\n",
              "      <td>...</td>\n",
              "      <td>...</td>\n",
              "      <td>...</td>\n",
              "      <td>...</td>\n",
              "      <td>...</td>\n",
              "      <td>...</td>\n",
              "      <td>...</td>\n",
              "      <td>...</td>\n",
              "      <td>...</td>\n",
              "      <td>...</td>\n",
              "    </tr>\n",
              "    <tr>\n",
              "      <th>4992581</th>\n",
              "      <td>25/10/2021 0:00:00</td>\n",
              "      <td>4992622</td>\n",
              "      <td>6/9/2021 0:00:00</td>\n",
              "      <td>70</td>\n",
              "      <td>SUCRE</td>\n",
              "      <td>70215</td>\n",
              "      <td>COROZAL</td>\n",
              "      <td>62</td>\n",
              "      <td>1</td>\n",
              "      <td>M</td>\n",
              "      <td>En estudio</td>\n",
              "      <td>Casa</td>\n",
              "      <td>Leve</td>\n",
              "      <td>169.0</td>\n",
              "      <td>Colombia</td>\n",
              "      <td>Activo</td>\n",
              "      <td>2/9/2021 0:00:00</td>\n",
              "      <td>No ha muerto</td>\n",
              "      <td>17/9/2021 0:00:00</td>\n",
              "      <td>No recuperado</td>\n",
              "      <td>No recuperado</td>\n",
              "      <td>0.0</td>\n",
              "    </tr>\n",
              "    <tr>\n",
              "      <th>4992582</th>\n",
              "      <td>25/10/2021 0:00:00</td>\n",
              "      <td>4992623</td>\n",
              "      <td>13/8/2021 0:00:00</td>\n",
              "      <td>19</td>\n",
              "      <td>CAUCA</td>\n",
              "      <td>19693</td>\n",
              "      <td>SAN SEBASTIAN</td>\n",
              "      <td>46</td>\n",
              "      <td>1</td>\n",
              "      <td>F</td>\n",
              "      <td>En estudio</td>\n",
              "      <td>Casa</td>\n",
              "      <td>Leve</td>\n",
              "      <td>169.0</td>\n",
              "      <td>Colombia</td>\n",
              "      <td>Activo</td>\n",
              "      <td>9/8/2021 0:00:00</td>\n",
              "      <td>No ha muerto</td>\n",
              "      <td>24/8/2021 0:00:00</td>\n",
              "      <td>No recuperado</td>\n",
              "      <td>No recuperado</td>\n",
              "      <td>0.0</td>\n",
              "    </tr>\n",
              "    <tr>\n",
              "      <th>4992583</th>\n",
              "      <td>25/10/2021 0:00:00</td>\n",
              "      <td>4992624</td>\n",
              "      <td>5/7/2021 0:00:00</td>\n",
              "      <td>70</td>\n",
              "      <td>SUCRE</td>\n",
              "      <td>70215</td>\n",
              "      <td>COROZAL</td>\n",
              "      <td>2</td>\n",
              "      <td>1</td>\n",
              "      <td>M</td>\n",
              "      <td>En estudio</td>\n",
              "      <td>Casa</td>\n",
              "      <td>Leve</td>\n",
              "      <td>169.0</td>\n",
              "      <td>Colombia</td>\n",
              "      <td>Activo</td>\n",
              "      <td>1/7/2021 0:00:00</td>\n",
              "      <td>No ha muerto</td>\n",
              "      <td>16/7/2021 0:00:00</td>\n",
              "      <td>No recuperado</td>\n",
              "      <td>No recuperado</td>\n",
              "      <td>0.0</td>\n",
              "    </tr>\n",
              "    <tr>\n",
              "      <th>4992584</th>\n",
              "      <td>25/10/2021 0:00:00</td>\n",
              "      <td>4992625</td>\n",
              "      <td>31/5/2021 0:00:00</td>\n",
              "      <td>23</td>\n",
              "      <td>CORDOBA</td>\n",
              "      <td>23555</td>\n",
              "      <td>PLANETA RICA</td>\n",
              "      <td>44</td>\n",
              "      <td>1</td>\n",
              "      <td>M</td>\n",
              "      <td>En estudio</td>\n",
              "      <td>Casa</td>\n",
              "      <td>Leve</td>\n",
              "      <td>169.0</td>\n",
              "      <td>Colombia</td>\n",
              "      <td>Activo</td>\n",
              "      <td>27/5/2021 0:00:00</td>\n",
              "      <td>No ha muerto</td>\n",
              "      <td>11/6/2021 0:00:00</td>\n",
              "      <td>No recuperado</td>\n",
              "      <td>No recuperado</td>\n",
              "      <td>0.0</td>\n",
              "    </tr>\n",
              "    <tr>\n",
              "      <th>4992585</th>\n",
              "      <td>25/10/2021 0:00:00</td>\n",
              "      <td>4992626</td>\n",
              "      <td>31/5/2021 0:00:00</td>\n",
              "      <td>23</td>\n",
              "      <td>CORDOBA</td>\n",
              "      <td>23555</td>\n",
              "      <td>PLANETA RICA</td>\n",
              "      <td>50</td>\n",
              "      <td>1</td>\n",
              "      <td>M</td>\n",
              "      <td>En estudio</td>\n",
              "      <td>Casa</td>\n",
              "      <td>Leve</td>\n",
              "      <td>169.0</td>\n",
              "      <td>Colombia</td>\n",
              "      <td>Activo</td>\n",
              "      <td>27/5/2021 0:00:00</td>\n",
              "      <td>No ha muerto</td>\n",
              "      <td>11/6/2021 0:00:00</td>\n",
              "      <td>No recuperado</td>\n",
              "      <td>No recuperado</td>\n",
              "      <td>0.0</td>\n",
              "    </tr>\n",
              "  </tbody>\n",
              "</table>\n",
              "<p>4992586 rows × 22 columns</p>\n",
              "</div>"
            ],
            "text/plain": [
              "          fecha reporte web  ...  Pertenencia étnica\n",
              "0          6/3/2020 0:00:00  ...                 6.0\n",
              "1          9/3/2020 0:00:00  ...                 5.0\n",
              "2          9/3/2020 0:00:00  ...                 6.0\n",
              "3         11/3/2020 0:00:00  ...                 6.0\n",
              "4         11/3/2020 0:00:00  ...                 6.0\n",
              "...                     ...  ...                 ...\n",
              "4992581  25/10/2021 0:00:00  ...                 0.0\n",
              "4992582  25/10/2021 0:00:00  ...                 0.0\n",
              "4992583  25/10/2021 0:00:00  ...                 0.0\n",
              "4992584  25/10/2021 0:00:00  ...                 0.0\n",
              "4992585  25/10/2021 0:00:00  ...                 0.0\n",
              "\n",
              "[4992586 rows x 22 columns]"
            ]
          },
          "metadata": {},
          "execution_count": 5
        }
      ]
    },
    {
      "cell_type": "markdown",
      "metadata": {
        "id": "GfQqxPheIFPd"
      },
      "source": [
        "## Gráficas de tiempo"
      ]
    },
    {
      "cell_type": "markdown",
      "metadata": {
        "id": "eoBrySxXIIgE"
      },
      "source": [
        "### Contagios confirmados a través del tiempo"
      ]
    },
    {
      "cell_type": "code",
      "metadata": {
        "id": "OOvGkjyu4L8F",
        "colab": {
          "base_uri": "https://localhost:8080/",
          "height": 702
        },
        "outputId": "7c440c03-1a9d-4716-ede1-f5140a92477e"
      },
      "source": [
        "data['Fecha de notificación'] = pd.to_datetime(data['Fecha de notificación'])\n",
        "data = data.sort_values(by=\"Fecha de notificación\")\n",
        "data = data[data['Nombre municipio']=='BARRANCABERMEJA']\n",
        "fechas = data['Fecha de notificación'].drop_duplicates()\n",
        "dataPorFecha = data.groupby('Fecha de notificación').count()\n",
        "casosAcumuladosPorFecha = dataPorFecha['ID de caso'].cumsum()\n",
        "pd.set_option(\"display.max_rows\", None, \"display.max_columns\", None)\n",
        "\n",
        "plt.figure(figsize=(23,11))\n",
        "ax = plt.axes()\n",
        "ax.set_xlabel('\\nTiempo',size=25,color='#4bb4f2')\n",
        "ax.set_ylabel('Contagiados (en millones)\\n', size=25,color='#4bb4f2')\n",
        "plt.plot_date(fechas,casosAcumuladosPorFecha, linestyle='solid')\n",
        "plt.grid()\n",
        "plt.show()"
      ],
      "execution_count": 6,
      "outputs": [
        {
          "output_type": "display_data",
          "data": {
            "image/png": "[encoded data removed]",
            "text/plain": [
              "<Figure size 1656x792 with 1 Axes>"
            ]
          },
          "metadata": {
            "needs_background": "light"
          }
        }
      ]
    },
    {
      "cell_type": "markdown",
      "metadata": {
        "id": "p8q7R1FPIOnr"
      },
      "source": [
        "### Muertos confirmados a través del tiempo"
      ]
    },
    {
      "cell_type": "code",
      "metadata": {
        "id": "WW8f7QFUGTQ8",
        "colab": {
          "base_uri": "https://localhost:8080/",
          "height": 702
        },
        "outputId": "66bbd6ef-916e-40bb-ced5-63fa692c6485"
      },
      "source": [
        "dataDeath = data[data['Fecha de muerte'] != 'No ha muerto']\n",
        "fechasDeath = dataDeath['Fecha de notificación'].drop_duplicates()\n",
        "dataDeathPorFecha = dataDeath.groupby('Fecha de notificación').count()\n",
        "casosDeathAcumuladosPorFecha = dataDeathPorFecha['ID de caso'].cumsum()\n",
        "pd.set_option(\"display.max_rows\", None, \"display.max_columns\", None)\n",
        "\n",
        "plt.figure(figsize=(23,11))\n",
        "ax = plt.axes()\n",
        "ax.set_xlabel('\\nTiempo',size=25,color='#4bb4f2')\n",
        "ax.set_ylabel('Muertos\\n', size=25,color='#4bb4f2')\n",
        "plt.plot_date(fechasDeath,casosDeathAcumuladosPorFecha, linestyle='solid')\n",
        "plt.grid()\n",
        "plt.show()"
      ],
      "execution_count": 7,
      "outputs": [
        {
          "output_type": "display_data",
          "data": {
            "image/png": "[encoded data removed]",
            "text/plain": [
              "<Figure size 1656x792 with 1 Axes>"
            ]
          },
          "metadata": {
            "needs_background": "light"
          }
        }
      ]
    },
    {
      "cell_type": "markdown",
      "metadata": {
        "id": "IRA-PFsVIU8L"
      },
      "source": [
        "## Observaciones por edad sin estratificación\n",
        "\n",
        "*   Elemento de la lista\n",
        "*   Elemento de la lista\n",
        "\n"
      ]
    },
    {
      "cell_type": "markdown",
      "metadata": {
        "id": "zdwC0KDXmhKD"
      },
      "source": [
        "### Infectados"
      ]
    },
    {
      "cell_type": "code",
      "metadata": {
        "id": "Dhq00shcwT7f",
        "colab": {
          "base_uri": "https://localhost:8080/",
          "height": 282
        },
        "outputId": "b21b2a2f-6af0-4d46-b6dd-7c60fa306dc9"
      },
      "source": [
        "data['Edad'].plot.hist(bins=100, alpha=0.5)"
      ],
      "execution_count": 8,
      "outputs": [
        {
          "output_type": "execute_result",
          "data": {
            "text/plain": [
              "<matplotlib.axes._subplots.AxesSubplot at 0x7fcb2ac29790>"
            ]
          },
          "metadata": {},
          "execution_count": 8
        },
        {
          "output_type": "display_data",
          "data": {
            "image/png": "[encoded data removed]",
            "text/plain": [
              "<Figure size 432x288 with 1 Axes>"
            ]
          },
          "metadata": {
            "needs_background": "light"
          }
        }
      ]
    },
    {
      "cell_type": "markdown",
      "metadata": {
        "id": "w2ZuNUWqmevK"
      },
      "source": [
        "### Muertos"
      ]
    },
    {
      "cell_type": "code",
      "metadata": {
        "id": "fKgejvk-mHPD",
        "colab": {
          "base_uri": "https://localhost:8080/",
          "height": 282
        },
        "outputId": "e33e56f4-f458-4c70-c576-cb62d543134c"
      },
      "source": [
        "data1 = data[data['Fecha de muerte'] != 'No ha muerto']\n",
        "data1['Edad'].plot.hist(bins=100, alpha=1)"
      ],
      "execution_count": 9,
      "outputs": [
        {
          "output_type": "execute_result",
          "data": {
            "text/plain": [
              "<matplotlib.axes._subplots.AxesSubplot at 0x7fcb2ab18790>"
            ]
          },
          "metadata": {},
          "execution_count": 9
        },
        {
          "output_type": "display_data",
          "data": {
            "image/png": "[encoded data removed]",
            "text/plain": [
              "<Figure size 432x288 with 1 Axes>"
            ]
          },
          "metadata": {
            "needs_background": "light"
          }
        }
      ]
    },
    {
      "cell_type": "markdown",
      "metadata": {
        "id": "8guzHb-ImnQk"
      },
      "source": [
        "### Infectados y muertos"
      ]
    },
    {
      "cell_type": "code",
      "metadata": {
        "id": "V6lP1EYYx1j3",
        "colab": {
          "base_uri": "https://localhost:8080/",
          "height": 282
        },
        "outputId": "3929982b-ed4f-4828-b377-28b9bec60532"
      },
      "source": [
        "data1 = data[data['Fecha de muerte'] != 'No ha muerto']\n",
        "data1['Edad'].plot.hist(bins=100, alpha=1)\n",
        "data['Edad'].plot.hist(bins=100, alpha=0.3)"
      ],
      "execution_count": 10,
      "outputs": [
        {
          "output_type": "execute_result",
          "data": {
            "text/plain": [
              "<matplotlib.axes._subplots.AxesSubplot at 0x7fcb2a929790>"
            ]
          },
          "metadata": {},
          "execution_count": 10
        },
        {
          "output_type": "display_data",
          "data": {
            "image/png": "[encoded data removed]",
            "text/plain": [
              "<Figure size 432x288 with 1 Axes>"
            ]
          },
          "metadata": {
            "needs_background": "light"
          }
        }
      ]
    },
    {
      "cell_type": "markdown",
      "metadata": {
        "id": "ey89X_eRIq6x"
      },
      "source": [
        "El porcentaje de mortalidad es del:"
      ]
    },
    {
      "cell_type": "code",
      "metadata": {
        "id": "NyzUe7bjIvbJ",
        "colab": {
          "base_uri": "https://localhost:8080/"
        },
        "outputId": "468bf6c3-f031-4e20-b08d-81619739728a"
      },
      "source": [
        "print (100*len(data1)/len(data),'%')"
      ],
      "execution_count": 11,
      "outputs": [
        {
          "output_type": "stream",
          "name": "stdout",
          "text": [
            "3.5927911131826304 %\n"
          ]
        }
      ]
    },
    {
      "cell_type": "markdown",
      "metadata": {
        "id": "QLE0w-6iJNGL"
      },
      "source": [
        "## Observaciones por edad con estratificación:\n",
        "\n",
        "1. De los 0 a los 5 años\n",
        "\n",
        "*   Elemento de la lista\n",
        "*   Elemento de la lista\n",
        "\n",
        "\n",
        "2. De los 6 a los 12 años\n",
        "3. De los 13 a los 26 años\n",
        "4. De los 27 a los 60 años\n",
        "5. Desde los 60 años"
      ]
    },
    {
      "cell_type": "code",
      "metadata": {
        "id": "-2AK0k81mFnm"
      },
      "source": [
        "data0_5 = data[data.Edad <= 5]\n",
        "data6_12 = data[(data.Edad >= 6) & (data.Edad <= 12)]\n",
        "data13_26 = data[(data.Edad >= 13) & (data.Edad <= 26)]\n",
        "data27_60 = data[(data.Edad >= 27) & (data.Edad <= 60)]\n",
        "data60_max = data[data.Edad > 60]"
      ],
      "execution_count": 12,
      "outputs": []
    },
    {
      "cell_type": "code",
      "metadata": {
        "id": "P-mitkK7JgB6",
        "colab": {
          "base_uri": "https://localhost:8080/"
        },
        "outputId": "08049165-b053-4c27-b14a-012d7276ab37"
      },
      "source": [
        "num_data0_5 = len(data0_5)\n",
        "num_data6_12 = len(data6_12)\n",
        "num_data13_26 = len(data13_26)\n",
        "num_data27_60 = len(data27_60)\n",
        "num_data60_max = len(data60_max)\n",
        "total = num_data0_5+num_data6_12+num_data13_26+num_data27_60+num_data60_max\n",
        "print('La cantidad de personas en cada grupo es:\\n')\n",
        "print('1. ', num_data0_5,'\\n')\n",
        "print('2. ', num_data6_12,'\\n')\n",
        "print('3. ', num_data13_26,'\\n')\n",
        "print('4. ', num_data27_60,'\\n')\n",
        "print('5. ', num_data60_max,'\\n')\n",
        "print('Total: ',total) "
      ],
      "execution_count": 13,
      "outputs": [
        {
          "output_type": "stream",
          "name": "stdout",
          "text": [
            "La cantidad de personas en cada grupo es:\n",
            "\n",
            "1.  254 \n",
            "\n",
            "2.  698 \n",
            "\n",
            "3.  4317 \n",
            "\n",
            "4.  17214 \n",
            "\n",
            "5.  3263 \n",
            "\n",
            "Total:  25746\n"
          ]
        }
      ]
    },
    {
      "cell_type": "code",
      "metadata": {
        "id": "SJA6wmUIK0Ys",
        "colab": {
          "base_uri": "https://localhost:8080/"
        },
        "outputId": "a8a49307-1fe9-41c6-f868-e8f0a5709454"
      },
      "source": [
        "print('Lo que indica que cada grupo representa un porcentaje del total así:\\n')\n",
        "print('1. ', 100*num_data0_5/total,'%\\n')\n",
        "print('2. ', 100*num_data6_12/total,'%\\n')\n",
        "print('3. ', 100*num_data13_26/total,'%\\n')\n",
        "print('4. ', 100*num_data27_60/total,'%\\n')\n",
        "print('5. ', 100*num_data60_max/total,'%\\n')"
      ],
      "execution_count": 14,
      "outputs": [
        {
          "output_type": "stream",
          "name": "stdout",
          "text": [
            "Lo que indica que cada grupo representa un porcentaje del total así:\n",
            "\n",
            "1.  0.9865610191874465 %\n",
            "\n",
            "2.  2.711100753515109 %\n",
            "\n",
            "3.  16.767653227685855 %\n",
            "\n",
            "4.  66.86087159170357 %\n",
            "\n",
            "5.  12.673813407908025 %\n",
            "\n"
          ]
        }
      ]
    },
    {
      "cell_type": "markdown",
      "metadata": {
        "id": "Fm7AiIr7L2Sb"
      },
      "source": [
        "### Contagiados"
      ]
    },
    {
      "cell_type": "code",
      "metadata": {
        "id": "yO6413App3ni",
        "colab": {
          "base_uri": "https://localhost:8080/",
          "height": 702
        },
        "outputId": "9c94e9f6-d9fd-4b84-882f-c383c56f17bd"
      },
      "source": [
        "plt.figure(figsize=(23,11))\n",
        "ax = plt.axes()\n",
        "ax.set_xlabel('Grupos de edades\\n',size=25,color='#4bb4f2')\n",
        "ax.set_ylabel('Contagiados\\n', size=25,color='#4bb4f2')\n",
        "plt.bar('0-5 años',len(data0_5))\n",
        "plt.bar('6-12 años',len(data6_12))\n",
        "plt.bar('13-26 años',len(data13_26))\n",
        "plt.bar('27-60 años',len(data27_60))\n",
        "plt.bar('60+ años',len(data60_max))\n",
        "plt.show()"
      ],
      "execution_count": 15,
      "outputs": [
        {
          "output_type": "display_data",
          "data": {
            "image/png": "[encoded data removed]",
            "text/plain": [
              "<Figure size 1656x792 with 1 Axes>"
            ]
          },
          "metadata": {
            "needs_background": "light"
          }
        }
      ]
    },
    {
      "cell_type": "markdown",
      "metadata": {
        "id": "yOoOHVOeL5QD"
      },
      "source": [
        "### Muertos"
      ]
    },
    {
      "cell_type": "code",
      "metadata": {
        "id": "R_65utsUt-_R",
        "colab": {
          "base_uri": "https://localhost:8080/",
          "height": 702
        },
        "outputId": "f7851f1b-f11e-4fcb-97eb-50c31d3aadf9"
      },
      "source": [
        "plt.figure(figsize=(23,11))\n",
        "ax = plt.axes()\n",
        "ax.set_xlabel('Grupos de edades\\n',size=25,color='#4bb4f2')\n",
        "ax.set_ylabel('Muertos\\n', size=25,color='#4bb4f2')\n",
        "plt.bar('0-5 años',len(data0_5[data0_5['Fecha de muerte'] != 'No ha muerto']))\n",
        "plt.bar('6-12 años',len(data6_12[data6_12['Fecha de muerte'] != 'No ha muerto']))\n",
        "plt.bar('13-26 años',len(data13_26[data13_26['Fecha de muerte'] != 'No ha muerto']))\n",
        "plt.bar('27-60 años',len(data13_26[data13_26['Fecha de muerte'] != 'No ha muerto']))\n",
        "plt.bar('60+ años',len(data60_max[data60_max['Fecha de muerte'] != 'No ha muerto']))\n",
        "plt.show()"
      ],
      "execution_count": 16,
      "outputs": [
        {
          "output_type": "display_data",
          "data": {
            "image/png": "[encoded data removed]",
            "text/plain": [
              "<Figure size 1656x792 with 1 Axes>"
            ]
          },
          "metadata": {
            "needs_background": "light"
          }
        }
      ]
    },
    {
      "cell_type": "code",
      "metadata": {
        "id": "0cR1AFkzvTwI",
        "colab": {
          "base_uri": "https://localhost:8080/",
          "height": 702
        },
        "outputId": "83c8022a-6246-4e6e-edfd-9d703592b123"
      },
      "source": [
        "plt.figure(figsize=(20,11))\n",
        "ax = plt.axes()\n",
        "ax.set_xlabel('Grupos de edades\\n',size=25,color='#4bb4f2')\n",
        "ax.set_ylabel('Porcentaje de mortalidad\\n', size=25,color='#4bb4f2')\n",
        "plt.bar('0-5 años',100*len(data0_5[data0_5['Fecha de muerte'] != 'No ha muerto'])/len(data0_5))\n",
        "plt.bar('6-12 años',100*len(data6_12[data6_12['Fecha de muerte'] != 'No ha muerto'])/len(data6_12))\n",
        "plt.bar('13-26 años',100*len(data13_26[data13_26['Fecha de muerte'] != 'No ha muerto'])/len(data13_26))\n",
        "plt.bar('27-60 años',100*len(data13_26[data13_26['Fecha de muerte'] != 'No ha muerto'])/len(data27_60))\n",
        "plt.bar('60+ años',100*len(data60_max[data60_max['Fecha de muerte'] != 'No ha muerto'])/len(data60_max))\n",
        "plt.show()"
      ],
      "execution_count": 17,
      "outputs": [
        {
          "output_type": "display_data",
          "data": {
            "image/png": "[encoded data removed]",
            "text/plain": [
              "<Figure size 1440x792 with 1 Axes>"
            ]
          },
          "metadata": {
            "needs_background": "light"
          }
        }
      ]
    },
    {
      "cell_type": "markdown",
      "metadata": {
        "id": "l4XsnUN3MES7"
      },
      "source": [
        "### Contagiados y muertos comparados"
      ]
    },
    {
      "cell_type": "code",
      "metadata": {
        "id": "6CYls7z7wWOo",
        "colab": {
          "base_uri": "https://localhost:8080/",
          "height": 730
        },
        "outputId": "3dc68c29-ed55-4b0e-d66e-0e2dc3351fd9"
      },
      "source": [
        "plt.figure(figsize=(22,11))\n",
        "ax = plt.axes()\n",
        "ax.set_xlabel('Grupos de edades\\nContagiados | Muertos\\n',size=25,color='#4bb4f2')\n",
        "ax.set_ylabel('Contagios | Muertos\\n', size=25,color='#4bb4f2')\n",
        "plt.bar('0-5 años Contagiados',len(data0_5))\n",
        "plt.bar('0-5 años Muertos',len(data0_5[data0_5['Fecha de muerte'] != 'No ha muerto']))\n",
        "plt.bar('6-12 años Contagiados',len(data6_12))\n",
        "plt.bar('6-12 años Muertos',len(data6_12[data6_12['Fecha de muerte'] != 'No ha muerto']))\n",
        "plt.bar('13-26 años Contagiados',len(data13_26))\n",
        "plt.bar('13-26 años Muertos',len(data13_26[data13_26['Fecha de muerte'] != 'No ha muerto']))\n",
        "plt.bar('27-60 años Contagiados',len(data27_60))\n",
        "plt.bar('27-60 años Muertos',len(data13_26[data13_26['Fecha de muerte'] != 'No ha muerto']))\n",
        "plt.bar('60+ años Contagiados',len(data60_max))\n",
        "plt.bar('60+ años Muertos',len(data60_max[data60_max['Fecha de muerte'] != 'No ha muerto']))\n",
        "plt.show()"
      ],
      "execution_count": 18,
      "outputs": [
        {
          "output_type": "display_data",
          "data": {
            "image/png": "[encoded data removed]",
            "text/plain": [
              "<Figure size 1584x792 with 1 Axes>"
            ]
          },
          "metadata": {
            "needs_background": "light"
          }
        }
      ]
    },
    {
      "cell_type": "markdown",
      "metadata": {
        "id": "M8-9n7G5MOY0"
      },
      "source": [
        "## División por género"
      ]
    },
    {
      "cell_type": "markdown",
      "metadata": {
        "id": "bEACI0CVMnPU"
      },
      "source": [
        "### Infectados"
      ]
    },
    {
      "cell_type": "code",
      "metadata": {
        "id": "cXY9qrXY2gfn",
        "colab": {
          "base_uri": "https://localhost:8080/",
          "height": 282
        },
        "outputId": "0383cb4a-879c-4e6c-d1e7-332d64dd8e1e"
      },
      "source": [
        "hombres = len(data[data.Sexo == 'M'])\n",
        "mujeres = len(data[data.Sexo == 'F'])\n",
        "print ('Cantidad de hombres: ', hombres)\n",
        "print ('Cantidad de mujeres: ', mujeres)\n",
        "plt.pie(x=[hombres,mujeres],labels=['Hombres','Mujeres'],colors=['skyblue','pink'],autopct='%.2f%%')\n",
        "plt.show()"
      ],
      "execution_count": 19,
      "outputs": [
        {
          "output_type": "stream",
          "name": "stdout",
          "text": [
            "Cantidad de hombres:  14137\n",
            "Cantidad de mujeres:  11609\n"
          ]
        },
        {
          "output_type": "display_data",
          "data": {
            "image/png": "[encoded data removed]",
            "text/plain": [
              "<Figure size 432x288 with 1 Axes>"
            ]
          },
          "metadata": {}
        }
      ]
    },
    {
      "cell_type": "markdown",
      "metadata": {
        "id": "JWnlIzdKMzjb"
      },
      "source": [
        "### Muertos"
      ]
    },
    {
      "cell_type": "code",
      "metadata": {
        "id": "CLncOBP0MqDU",
        "colab": {
          "base_uri": "https://localhost:8080/",
          "height": 282
        },
        "outputId": "35b870b6-eaae-4b38-9179-458848152b3c"
      },
      "source": [
        "hombres = len(dataDeath[dataDeath.Sexo == 'M'])\n",
        "mujeres = len(dataDeath[dataDeath.Sexo == 'F'])\n",
        "print ('Cantidad de hombres: ', hombres)\n",
        "print ('Cantidad de mujeres: ', mujeres)\n",
        "plt.pie(x=[hombres,mujeres],labels=['Hombres','Mujeres'],colors=['skyblue','pink'],autopct='%.2f%%')\n",
        "plt.show()"
      ],
      "execution_count": 20,
      "outputs": [
        {
          "output_type": "stream",
          "name": "stdout",
          "text": [
            "Cantidad de hombres:  570\n",
            "Cantidad de mujeres:  355\n"
          ]
        },
        {
          "output_type": "display_data",
          "data": {
            "image/png": "[encoded data removed]",
            "text/plain": [
              "<Figure size 432x288 with 1 Axes>"
            ]
          },
          "metadata": {}
        }
      ]
    },
    {
      "cell_type": "markdown",
      "metadata": {
        "id": "FUlCh_iFNBsr"
      },
      "source": [
        "Podemos observar que no hay una preferencia sobre el género en los contagios, pero existe una tendencia a una mayor mortalidad en hombres\n",
        "\n"
      ]
    },
    {
      "cell_type": "markdown",
      "metadata": {
        "id": "GiSsvvbuYa1p"
      },
      "source": [
        "## Observaciones por departamentos"
      ]
    },
    {
      "cell_type": "markdown",
      "metadata": {
        "id": "sIzEVgyfa7Gq"
      },
      "source": [
        "### Contagiados"
      ]
    },
    {
      "cell_type": "code",
      "metadata": {
        "id": "vge1Nx82YaK6"
      },
      "source": [
        "data_santander = data[data['Nombre departamento']=='SANTANDER']\n",
        "data_antioquia = data[data['Nombre departamento']=='ANTIOQUIA']\n",
        "data_valle = data[data['Nombre departamento']=='VALLE']\n",
        "data_bogota = data[data['Nombre departamento']=='BOGOTA']\n",
        "data_atlantico = data[data['Nombre departamento']=='ATLANTICO']"
      ],
      "execution_count": 21,
      "outputs": []
    },
    {
      "cell_type": "code",
      "metadata": {
        "id": "tT_64n67abl6",
        "colab": {
          "base_uri": "https://localhost:8080/",
          "height": 702
        },
        "outputId": "4ec717c7-febc-4e05-c91a-7dd1636d33db"
      },
      "source": [
        "plt.figure(figsize=(23,11))\n",
        "ax = plt.axes()\n",
        "ax.set_xlabel('Departamentos\\n',size=25,color='#4bb4f2')\n",
        "ax.set_ylabel('Contagiados\\n', size=25,color='#4bb4f2')\n",
        "plt.bar('Santander',len(data_santander))\n",
        "plt.bar('Antioquia',len(data_antioquia))\n",
        "plt.bar('Valle',len(data_valle))\n",
        "plt.bar('Atlántico',len(data_atlantico))\n",
        "plt.bar('Bogotá',len(data_bogota))\n",
        "plt.show()"
      ],
      "execution_count": 22,
      "outputs": [
        {
          "output_type": "display_data",
          "data": {
            "image/png": "[encoded data removed]",
            "text/plain": [
              "<Figure size 1656x792 with 1 Axes>"
            ]
          },
          "metadata": {
            "needs_background": "light"
          }
        }
      ]
    },
    {
      "cell_type": "markdown",
      "metadata": {
        "id": "M_DimakFa9Yi"
      },
      "source": [
        "### Muertos"
      ]
    },
    {
      "cell_type": "code",
      "metadata": {
        "id": "898inpRJa-wv"
      },
      "source": [
        "dataDeath_santander = dataDeath[dataDeath['Nombre departamento']=='SANTANDER']\n",
        "dataDeath_antioquia = dataDeath[dataDeath['Nombre departamento']=='ANTIOQUIA']\n",
        "dataDeath_valle = dataDeath[dataDeath['Nombre departamento']=='VALLE']\n",
        "dataDeath_bogota = dataDeath[dataDeath['Nombre departamento']=='BOGOTA']\n",
        "dataDeath_atlantico = dataDeath[dataDeath['Nombre departamento']=='ATLANTICO']"
      ],
      "execution_count": 23,
      "outputs": []
    },
    {
      "cell_type": "code",
      "metadata": {
        "id": "Uqs5lwKQbRLw",
        "colab": {
          "base_uri": "https://localhost:8080/",
          "height": 702
        },
        "outputId": "71c06fb4-57a5-4029-8ea0-2f5e5998ffdd"
      },
      "source": [
        "plt.figure(figsize=(23,11))\n",
        "ax = plt.axes()\n",
        "ax.set_xlabel('Departamentos\\n',size=25,color='#4bb4f2')\n",
        "ax.set_ylabel('Muertos\\n', size=25,color='#4bb4f2')\n",
        "plt.bar('Santander',len(dataDeath_santander))\n",
        "plt.bar('Antioquia',len(dataDeath_antioquia))\n",
        "plt.bar('Valle',len(dataDeath_valle))\n",
        "plt.bar('Atlántico',len(dataDeath_atlantico))\n",
        "plt.bar('Bogotá',len(dataDeath_bogota))\n",
        "plt.show()"
      ],
      "execution_count": 24,
      "outputs": [
        {
          "output_type": "display_data",
          "data": {
            "image/png": "[encoded data removed]",
            "text/plain": [
              "<Figure size 1656x792 with 1 Axes>"
            ]
          },
          "metadata": {
            "needs_background": "light"
          }
        }
      ]
    },
    {
      "cell_type": "code",
      "metadata": {
        "id": "6Afj9JmcAS8u",
        "colab": {
          "base_uri": "https://localhost:8080/",
          "height": 289
        },
        "outputId": "60a9b797-b45a-48e1-cd44-8edf6934e3b3"
      },
      "source": [
        "data = data.sort_values(by=\"Fecha de notificación\")\n",
        "dataNum = data[['Fecha de notificación','Código DIVIPOLA municipio']]\n",
        "dataNum.drop(dataNum.index[:int(len(dataNum)*0.95)],0,inplace=True)\n",
        "\n",
        "dataNum.head()"
      ],
      "execution_count": 26,
      "outputs": [
        {
          "output_type": "stream",
          "name": "stderr",
          "text": [
            "/usr/local/lib/python3.7/dist-packages/pandas/core/frame.py:4174: SettingWithCopyWarning: \n",
            "A value is trying to be set on a copy of a slice from a DataFrame\n",
            "\n",
            "See the caveats in the documentation: https://pandas.pydata.org/pandas-docs/stable/user_guide/indexing.html#returning-a-view-versus-a-copy\n",
            "  errors=errors,\n"
          ]
        },
        {
          "output_type": "execute_result",
          "data": {
            "text/html": [
              "<div>\n",
              "<style scoped>\n",
              "    .dataframe tbody tr th:only-of-type {\n",
              "        vertical-align: middle;\n",
              "    }\n",
              "\n",
              "    .dataframe tbody tr th {\n",
              "        vertical-align: top;\n",
              "    }\n",
              "\n",
              "    .dataframe thead th {\n",
              "        text-align: right;\n",
              "    }\n",
              "</style>\n",
              "<table border=\"1\" class=\"dataframe\">\n",
              "  <thead>\n",
              "    <tr style=\"text-align: right;\">\n",
              "      <th></th>\n",
              "      <th>Fecha de notificación</th>\n",
              "      <th>Código DIVIPOLA municipio</th>\n",
              "    </tr>\n",
              "  </thead>\n",
              "  <tbody>\n",
              "    <tr>\n",
              "      <th>3733859</th>\n",
              "      <td>2021-10-06</td>\n",
              "      <td>68081</td>\n",
              "    </tr>\n",
              "    <tr>\n",
              "      <th>3734153</th>\n",
              "      <td>2021-10-06</td>\n",
              "      <td>68081</td>\n",
              "    </tr>\n",
              "    <tr>\n",
              "      <th>4073642</th>\n",
              "      <td>2021-10-06</td>\n",
              "      <td>68081</td>\n",
              "    </tr>\n",
              "    <tr>\n",
              "      <th>4074004</th>\n",
              "      <td>2021-10-06</td>\n",
              "      <td>68081</td>\n",
              "    </tr>\n",
              "    <tr>\n",
              "      <th>3893878</th>\n",
              "      <td>2021-10-06</td>\n",
              "      <td>68081</td>\n",
              "    </tr>\n",
              "  </tbody>\n",
              "</table>\n",
              "</div>"
            ],
            "text/plain": [
              "        Fecha de notificación  Código DIVIPOLA municipio\n",
              "3733859            2021-10-06                      68081\n",
              "3734153            2021-10-06                      68081\n",
              "4073642            2021-10-06                      68081\n",
              "4074004            2021-10-06                      68081\n",
              "3893878            2021-10-06                      68081"
            ]
          },
          "metadata": {},
          "execution_count": 26
        }
      ]
    },
    {
      "cell_type": "code",
      "metadata": {
        "id": "Cfnf5TrHJmqA"
      },
      "source": [
        "X = dataNum[['Fecha de notificación']]\n",
        "y = dataNum[['Código DIVIPOLA municipio']]\n",
        "n = int(len(X)*0.8)\n",
        "X_train = X[:n]\n",
        "y_train = y[:n]\n",
        "X_test = X[n:]\n",
        "y_test = y[n:]"
      ],
      "execution_count": 29,
      "outputs": []
    }
  ]
}